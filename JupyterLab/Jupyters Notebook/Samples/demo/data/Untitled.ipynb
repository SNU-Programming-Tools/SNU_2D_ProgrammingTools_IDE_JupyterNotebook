{
 "cells": [
  {
   "cell_type": "code",
   "execution_count": 2,
   "metadata": {},
   "outputs": [
    {
     "name": "stdout",
     "output_type": "stream",
     "text": [
      "Hello world\n",
      "lol Hemm\n"
     ]
    }
   ],
   "source": [
    "print (\"Hello world\")\n",
    "hem = str(\"Hemm\")\n",
    "def memes():\n",
    "    print (\"Funny\")\n",
    "for i in range(1, 2):\n",
    "    print (\"lol \" + str(hem))\n"
   ]
  },
  {
   "cell_type": "code",
   "execution_count": 3,
   "metadata": {},
   "outputs": [
    {
     "name": "stdout",
     "output_type": "stream",
     "text": [
      "I am just testing out Jupyters notebook\n",
      "65536.0\n"
     ]
    }
   ],
   "source": [
    "print (\"I am just testing out Jupyters notebook\")\n",
    "# Comment\n",
    "\"\"\"\n",
    "BIG COMMENT\n",
    "\"\"\"\n",
    "'''\n",
    "WEIRD BIG COMMENT\n",
    "'''\n",
    "x = float(2.0)\n",
    "y = float(16.0)\n",
    "print (x ** y)\n"
   ]
  },
  {
   "cell_type": "code",
   "execution_count": null,
   "metadata": {},
   "outputs": [],
   "source": []
  }
 ],
 "metadata": {
  "kernelspec": {
   "display_name": "Python 3",
   "language": "python",
   "name": "python3"
  },
  "language_info": {
   "codemirror_mode": {
    "name": "ipython",
    "version": 3
   },
   "file_extension": ".py",
   "mimetype": "text/x-python",
   "name": "python",
   "nbconvert_exporter": "python",
   "pygments_lexer": "ipython3",
   "version": "3.7.8"
  }
 },
 "nbformat": 4,
 "nbformat_minor": 4
}
